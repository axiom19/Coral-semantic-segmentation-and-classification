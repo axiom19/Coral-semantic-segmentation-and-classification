{
 "cells": [
  {
   "cell_type": "code",
   "execution_count": 69,
   "metadata": {},
   "outputs": [],
   "source": [
    "import matplotlib.pyplot as plt\n",
    "import numpy as np \n",
    "from skimage.io import imread, imsave\n",
    "from PIL import Image\n",
    "import glob\n",
    "import os"
   ]
  },
  {
   "cell_type": "code",
   "execution_count": 91,
   "metadata": {},
   "outputs": [
    {
     "data": {
      "text/plain": [
       "(2736, 3648, 3)"
      ]
     },
     "execution_count": 91,
     "metadata": {},
     "output_type": "execute_result"
    }
   ],
   "source": [
    "image_path = '/Volumes/Shaq Toshiba/Cuba CPCe Images/201705263_ROV 17-18_424/201705263_T-15-40-04_102.jpg'\n",
    "text_path = '/Volumes/Shaq Toshiba/Cuba CPCe Images/201705263_ROV 17-18_424/201705263_T-15-40-04_102.cpc'\n",
    "\n",
    "# load true dimensions of the image\n",
    "image = imread(image_path)\n",
    "true_length = image.shape[1]\n",
    "true_width = image.shape[0]\n",
    "\n",
    "image.shape"
   ]
  },
  {
   "cell_type": "code",
   "execution_count": 147,
   "metadata": {},
   "outputs": [
    {
     "name": "stdout",
     "output_type": "stream",
     "text": [
      "['\"J:\\\\000 STEPHANIE\\\\2016 Cuba Cruise\\\\2017 Cruise Data\\\\Photos\\\\CPCE Point Count Code\\\\CPCe code for 2017 Cuba- FINAL 1-31-2018.txt\",\"J:\\\\000 STEPHANIE\\\\2016 Cuba Cruise\\\\2017 Cruise Data\\\\Photos\\\\Photos- CPCe and Density- Horizontal\\\\201705263_ROV 17-18_424\\\\201705263_T-15-40-04_102.jpg\",54720,41040,18732,14049\\n', '150.0629,40889.94\\n', '54569.94,40889.94\\n', '54569.94,150.0602\\n', '150.0629,150.0602\\n', '50\\n', '10496,2654\\n', '9997,552\\n', '2903,12191\\n', '1154,14950\\n', '1125,16658\\n', '10823,23318\\n', '4016,26049\\n', '6086,25639\\n', '10633,36002\\n', '7595,34480\\n', '12233,2714\\n', '14080,1121\\n', '20905,8355\\n', '15427,10696\\n', '15172,19226\\n', '17394,17167\\n', '12163,25664\\n', '19894,26816\\n', '20846,34539\\n', '11694,40759\\n', '22165,4226\\n', '30707,5693\\n', '29540,11307\\n', '25096,8808\\n', '31322,18405\\n', '30069,16726\\n', '23103,28183\\n', '30902,31376\\n', '26390,33421\\n', '22246,36706\\n', '37476,5002\\n', '41753,7522\\n', '36769,15140\\n', '34133,11931\\n', '42286,18275\\n', '36245,22576\\n', '41331,30006\\n', '35459,27991\\n', '36539,36877\\n', '42721,40806\\n', '52909,2802\\n', '44025,3798\\n', '53270,8364\\n', '44078,12906\\n', '47443,17207\\n', '47289,23457\\n', '51823,29539\\n', '46435,25598\\n', '44915,36719\\n', '53484,35375\\n', '\"1\",\"ROC\",\"Notes\",\"PHB\"\\n', '\"2\",\"TWS\",\"Notes\",\"\"\\n', '\"3\",\"AgG\",\"Notes\",\"PHB\"\\n', '\"4\",\"ROC\",\"Notes\",\"PHB\"\\n', '\"5\",\"RHO\",\"Notes\",\"PHB\"\\n', '\"6\",\"ROC\",\"Notes\",\"PHB\"\\n', '\"7\",\"ROC\",\"Notes\",\"PHB\"\\n', '\"8\",\"ROC\",\"Notes\",\"PHB\"\\n', '\"9\",\"AgG\",\"Notes\",\"PHB\"\\n', '\"10\",\"ALG\",\"Notes\",\"PHB\"\\n', '\"11\",\"ROC\",\"Notes\",\"PHB\"\\n', '\"12\",\"ROC\",\"Notes\",\"PHB\"\\n', '\"13\",\"AgG\",\"Notes\",\"PHB\"\\n', '\"14\",\"ROC\",\"Notes\",\"PHB\"\\n', '\"15\",\"AgG\",\"Notes\",\"PHB\"\\n', '\"16\",\"AgG\",\"Notes\",\"PHB\"\\n', '\"17\",\"ROC\",\"Notes\",\"PHB\"\\n', '\"18\",\"DCP\",\"Notes\",\"PDC\"\\n', '\"19\",\"AgG\",\"Notes\",\"PHB\"\\n', '\"20\",\"AgG\",\"Notes\",\"PHB\"\\n', '\"21\",\"ROC\",\"Notes\",\"PHB\"\\n', '\"22\",\"ROC\",\"Notes\",\"PHB\"\\n', '\"23\",\"ALG\",\"Notes\",\"PHB\"\\n', '\"24\",\"AgG\",\"Notes\",\"PHB\"\\n', '\"25\",\"CCA\",\"Notes\",\"PHB\"\\n', '\"26\",\"CCA\",\"Notes\",\"PHB\"\\n', '\"27\",\"DCP\",\"Notes\",\"PDC\"\\n', '\"28\",\"AgG\",\"Notes\",\"PHB\"\\n', '\"29\",\"ROC\",\"Notes\",\"PHB\"\\n', '\"30\",\"AgG\",\"Notes\",\"PHB\"\\n', '\"31\",\"AgS\",\"Notes\",\"PHB\"\\n', '\"32\",\"AgS\",\"Notes\",\"PHB\"\\n', '\"33\",\"AgG\",\"Notes\",\"PHB\"\\n', '\"34\",\"AgG\",\"Notes\",\"PHB\"\\n', '\"35\",\"ROC\",\"Notes\",\"PHB\"\\n', '\"36\",\"HelC\",\"Notes\",\"PHB\"\\n', '\"37\",\"AgG\",\"Notes\",\"PHB\"\\n', '\"38\",\"AgG\",\"Notes\",\"PHB\"\\n', '\"39\",\"AgG\",\"Notes\",\"PHB\"\\n', '\"40\",\"CCA\",\"Notes\",\"PHB\"\\n', '\"41\",\"TWS\",\"Notes\",\"\"\\n', '\"42\",\"TWS\",\"Notes\",\"\"\\n', '\"43\",\"DEM\",\"Notes\",\"PHB\"\\n', '\"44\",\"ALG\",\"Notes\",\"PHB\"\\n', '\"45\",\"CCA\",\"Notes\",\"PHB\"\\n', '\"46\",\"ROC\",\"Notes\",\"PHB\"\\n', '\"47\",\"AgS\",\"Notes\",\"PHB\"\\n', '\"48\",\"ROC\",\"Notes\",\"PHB\"\\n', '\"49\",\"ROC\",\"Notes\",\"PHB\"\\n', '\"50\",\"AgS\",\"Notes\",\"PHB\"\\n', '\" \"\\n', '\" \"\\n', '\" \"\\n', '\" \"\\n', '\" \"\\n', '\" \"\\n', '\" \"\\n', '\" \"\\n', '\" \"\\n', '\" \"\\n', '\" \"\\n', '\" \"\\n', '\" \"\\n', '\" \"\\n', '\" \"\\n', '\" \"\\n', '\" \"\\n', '\" \"\\n', '\" \"\\n', '\" \"\\n', '\" \"\\n', '\" \"\\n', '\" \"\\n', '\" \"\\n', '\" \"\\n', '\" \"\\n', '\" \"\\n', '\" \"\\n']\n"
     ]
    }
   ],
   "source": [
    "with open(text_path) as file:\n",
    "    data = file.readlines()\n",
    "print(data)"
   ]
  },
  {
   "cell_type": "code",
   "execution_count": 92,
   "metadata": {},
   "outputs": [],
   "source": [
    "# read dimensions of image\n",
    "with open(text_path) as textfile:\n",
    "    first_line = textfile.readlines()[0].split(',')\n",
    "    original_len = int(first_line[2])\n",
    "    original_width = int(first_line[3])"
   ]
  },
  {
   "cell_type": "code",
   "execution_count": 93,
   "metadata": {},
   "outputs": [
    {
     "name": "stdout",
     "output_type": "stream",
     "text": [
      "50\n"
     ]
    }
   ],
   "source": [
    "# number of points in the image\n",
    "with open(text_path) as textfile:\n",
    "    count_points = int(textfile.readlines()[5])\n",
    "print(count_points)"
   ]
  },
  {
   "cell_type": "code",
   "execution_count": 94,
   "metadata": {},
   "outputs": [
    {
     "name": "stderr",
     "output_type": "stream",
     "text": [
      "/var/folders/b8/_x62wfl112g_8f32jdl3v95h0000gn/T/ipykernel_3418/11870501.py:4: DeprecationWarning: `np.int` is a deprecated alias for the builtin `int`. To silence this warning, use `int` by itself. Doing this will not modify any behavior and is safe. When replacing `np.int`, you may wish to use e.g. `np.int64` or `np.int32` to specify the precision. If you wish to review your current use, check the release note link for additional information.\n",
      "Deprecated in NumPy 1.20; for more details and guidance: https://numpy.org/devdocs/release/1.20.0-notes.html#deprecations\n",
      "  coordinates = np.zeros([count_points,2],dtype=np.int)\n"
     ]
    }
   ],
   "source": [
    "# read the coordinates of the img\n",
    "with open(text_path) as textfile:\n",
    "    data = textfile.readlines()[6:6+count_points]\n",
    "    coordinates = np.zeros([count_points,2],dtype=np.int)\n",
    "    for n in range(count_points):\n",
    "        data1 = data[n].split(',')\n",
    "        coordinates[n,0] = int(int(data1[0]) * true_length/original_len)\n",
    "        coordinates[n,1] = int(int(data1[1]) * true_width/original_width)"
   ]
  },
  {
   "cell_type": "code",
   "execution_count": 95,
   "metadata": {},
   "outputs": [
    {
     "data": {
      "text/plain": [
       "array([[ 699,  176],\n",
       "       [ 666,   36],\n",
       "       [ 193,  812],\n",
       "       [  76,  996],\n",
       "       [  75, 1110],\n",
       "       [ 721, 1554],\n",
       "       [ 267, 1736],\n",
       "       [ 405, 1709],\n",
       "       [ 708, 2400],\n",
       "       [ 506, 2298],\n",
       "       [ 815,  180],\n",
       "       [ 938,   74],\n",
       "       [1393,  557],\n",
       "       [1028,  713],\n",
       "       [1011, 1281],\n",
       "       [1159, 1144],\n",
       "       [ 810, 1710],\n",
       "       [1326, 1787],\n",
       "       [1389, 2302],\n",
       "       [ 779, 2717],\n",
       "       [1477,  281],\n",
       "       [2047,  379],\n",
       "       [1969,  753],\n",
       "       [1673,  587],\n",
       "       [2088, 1227],\n",
       "       [2004, 1115],\n",
       "       [1540, 1878],\n",
       "       [2060, 2091],\n",
       "       [1759, 2228],\n",
       "       [1483, 2447],\n",
       "       [2498,  333],\n",
       "       [2783,  501],\n",
       "       [2451, 1009],\n",
       "       [2275,  795],\n",
       "       [2819, 1218],\n",
       "       [2416, 1505],\n",
       "       [2755, 2000],\n",
       "       [2363, 1866],\n",
       "       [2435, 2458],\n",
       "       [2848, 2720],\n",
       "       [3527,  186],\n",
       "       [2935,  253],\n",
       "       [3551,  557],\n",
       "       [2938,  860],\n",
       "       [3162, 1147],\n",
       "       [3152, 1563],\n",
       "       [3454, 1969],\n",
       "       [3095, 1706],\n",
       "       [2994, 2447],\n",
       "       [3565, 2358]])"
      ]
     },
     "execution_count": 95,
     "metadata": {},
     "output_type": "execute_result"
    }
   ],
   "source": [
    "coordinates"
   ]
  },
  {
   "cell_type": "code",
   "execution_count": 96,
   "metadata": {},
   "outputs": [],
   "source": [
    "# read the label of each coordiante and encode the label\n",
    "with open(text_path) as textfile:\n",
    "    label_encode = np.zeros(count_points)\n",
    "    label = textfile.readlines()[6+count_points: 6+count_points+count_points]\n",
    "    for m in range(count_points):\n",
    "        label1 = label[m].split(\",\")\n",
    "        label2 = label1[1]\n",
    "        new_l = label2.replace('\\\"', '')\n",
    "\n",
    "        if (new_l.lower() == 'agalg') or (new_l.lower() == 'aga') or (new_l.lower() == 'agalf'):\n",
    "            label_encode[m] = 0\n",
    "        elif (new_l.lower() == 'dcp'):\n",
    "            label_encode[m] = 1\n",
    "        elif (new_l.lower() == 'roc'):\n",
    "            label_encode[m] = 2\n",
    "        elif (new_l.lower() == 'cca'):\n",
    "            label_encode[m] = 3\n",
    "        elif (new_l.lower() == 'ana'):\n",
    "            label_encode[m] = 4\n",
    "        else:\n",
    "            label_encode[m] = 5\n",
    "\n",
    "        "
   ]
  },
  {
   "cell_type": "code",
   "execution_count": 97,
   "metadata": {},
   "outputs": [
    {
     "data": {
      "text/plain": [
       "array([2., 5., 5., 2., 5., 2., 2., 2., 5., 5., 2., 2., 5., 2., 5., 5., 2.,\n",
       "       1., 5., 5., 2., 2., 5., 5., 3., 3., 1., 5., 2., 5., 5., 5., 5., 5.,\n",
       "       2., 5., 5., 5., 5., 3., 5., 5., 5., 5., 3., 2., 5., 2., 2., 5.])"
      ]
     },
     "execution_count": 97,
     "metadata": {},
     "output_type": "execute_result"
    }
   ],
   "source": [
    "label_encode"
   ]
  },
  {
   "cell_type": "code",
   "execution_count": 98,
   "metadata": {},
   "outputs": [],
   "source": [
    "# write to a new txt file\n",
    "name_img = image_path.split('/')[5]\n",
    "name_text = name_img.split('.')[0]\n",
    "\n",
    "dir = '/Users/shagundeepsingh/Documents/coral/demo'\n",
    "if not os.path.exists(dir):\n",
    "    os.makedirs(dir)\n",
    "\n",
    "name_img = image_path.split('/')[5]\n",
    "name_text = name_img.split('.')[0]\n",
    "file_path = os.path.join(dir, name_text + '.txt')\n",
    "\n",
    "with open(file_path, 'w+') as newtxtfile:\n",
    "    newtxtfile.write(name_img+str('\\n'))\n",
    "    newtxtfile.write('x,y,label\\n')\n",
    "    for i in range(count_points):\n",
    "        x = coordinates[i, 0]\n",
    "        y = coordinates[i, 1]\n",
    "        label = int(label_encode[i])\n",
    "        newtxtfile.write('{0},{1},{2}\\n'.format(x,y,label))"
   ]
  },
  {
   "cell_type": "code",
   "execution_count": 99,
   "metadata": {},
   "outputs": [
    {
     "data": {
      "text/plain": [
       "'/Volumes/Shaq Toshiba/Cuba CPCe Images/201705263_ROV 17-18_424/201705263_T-15-40-04_102.jpg'"
      ]
     },
     "execution_count": 99,
     "metadata": {},
     "output_type": "execute_result"
    }
   ],
   "source": [
    "image_path"
   ]
  },
  {
   "cell_type": "code",
   "execution_count": 90,
   "metadata": {},
   "outputs": [],
   "source": [
    "\n",
    "# TODO2: Make a data distribution plot\n",
    "# TODO3: Make a class imbalance balancing thing\n",
    "# TODO4: Data Augmentation\n",
    "# TODO5: Data distribution plot"
   ]
  },
  {
   "cell_type": "code",
   "execution_count": 109,
   "metadata": {},
   "outputs": [
    {
     "name": "stderr",
     "output_type": "stream",
     "text": [
      "/var/folders/b8/_x62wfl112g_8f32jdl3v95h0000gn/T/ipykernel_3418/1337537134.py:4: DeprecationWarning: `np.int` is a deprecated alias for the builtin `int`. To silence this warning, use `int` by itself. Doing this will not modify any behavior and is safe. When replacing `np.int`, you may wish to use e.g. `np.int64` or `np.int32` to specify the precision. If you wish to review your current use, check the release note link for additional information.\n",
      "Deprecated in NumPy 1.20; for more details and guidance: https://numpy.org/devdocs/release/1.20.0-notes.html#deprecations\n",
      "  coordinate = np.zeros([50,2], dtype=np.int)\n",
      "/var/folders/b8/_x62wfl112g_8f32jdl3v95h0000gn/T/ipykernel_3418/1337537134.py:6: DeprecationWarning: `np.int` is a deprecated alias for the builtin `int`. To silence this warning, use `int` by itself. Doing this will not modify any behavior and is safe. When replacing `np.int`, you may wish to use e.g. `np.int64` or `np.int32` to specify the precision. If you wish to review your current use, check the release note link for additional information.\n",
      "Deprecated in NumPy 1.20; for more details and guidance: https://numpy.org/devdocs/release/1.20.0-notes.html#deprecations\n",
      "  label = np.zeros(50, dtype=np.int)\n"
     ]
    }
   ],
   "source": [
    "# save_crop_img function\n",
    " \n"
   ]
  },
  {
   "cell_type": "code",
   "execution_count": 131,
   "metadata": {},
   "outputs": [],
   "source": [
    "def crop_and_save_img(image_path, txt_path, crop_size, subidx):\n",
    "    img_idx = str(subidx)\n",
    "    coordinate = np.zeros([50,2], dtype=np.int)\n",
    "    label = np.zeros(50, dtype=np.int)\n",
    "\n",
    "    with open(txt_path) as txtfile:\n",
    "        data = txtfile.readlines()[2:]\n",
    "\n",
    "    image = imread(image_path)\n",
    "\n",
    "    for n in range(50):\n",
    "        data1 = data[n].split(',')\n",
    "        label[n] = int(data1[2])\n",
    "        x, y = int(data1[0]), int(data1[1])\n",
    "\n",
    "        # Initialize an empty array for the crop with the expected shape.\n",
    "        cropped_image = np.zeros((30, 30, 3), dtype=np.uint8)\n",
    "\n",
    "        # Calculate actual crop boundaries, considering image boundaries\n",
    "        start_x = max(0, x - crop_size)\n",
    "        end_x = min(image.shape[1], x + crop_size)\n",
    "        start_y = max(0, y - crop_size)\n",
    "        end_y = min(image.shape[0], y + crop_size)\n",
    "\n",
    "        # Crop the image segment\n",
    "        crop_segment = image[start_y:end_y, start_x:end_x]\n",
    "\n",
    "        # Calculate where to place the crop segment in the cropped_image array\n",
    "        insert_at_x = max(0, crop_size - x)\n",
    "        insert_at_y = max(0, crop_size - y)\n",
    "\n",
    "        # Copy the cropped segment into the correct position of the cropped_image\n",
    "        cropped_image[insert_at_y:insert_at_y+crop_segment.shape[0], insert_at_x:insert_at_x+crop_segment.shape[1]] = crop_segment\n",
    "\n",
    "        im = Image.fromarray(cropped_image)\n",
    "        \n",
    "        label_folders = {\n",
    "            0: \"Coral\",\n",
    "            1: \"DCP\",\n",
    "            2: \"Rock\",\n",
    "            3: \"Red algae\",\n",
    "            4: \"Green algae\",\n",
    "            5: \"Others\"\n",
    "        }\n",
    "        folder_name = label_folders.get(label[n], \"Unknown\")\n",
    "        save_path = f\"./data/classes/{folder_name}/{folder_name}-{img_idx}-{n}.jpg\"\n",
    "\n",
    "        # Create the directory if it doesn't exist\n",
    "        os.makedirs(os.path.dirname(save_path), exist_ok=True)\n",
    "        im.save(save_path)\n"
   ]
  },
  {
   "cell_type": "code",
   "execution_count": 142,
   "metadata": {},
   "outputs": [
    {
     "name": "stderr",
     "output_type": "stream",
     "text": [
      "/var/folders/b8/_x62wfl112g_8f32jdl3v95h0000gn/T/ipykernel_3418/4172636971.py:3: DeprecationWarning: `np.int` is a deprecated alias for the builtin `int`. To silence this warning, use `int` by itself. Doing this will not modify any behavior and is safe. When replacing `np.int`, you may wish to use e.g. `np.int64` or `np.int32` to specify the precision. If you wish to review your current use, check the release note link for additional information.\n",
      "Deprecated in NumPy 1.20; for more details and guidance: https://numpy.org/devdocs/release/1.20.0-notes.html#deprecations\n",
      "  coordinate = np.zeros([50,2], dtype=np.int)\n",
      "/var/folders/b8/_x62wfl112g_8f32jdl3v95h0000gn/T/ipykernel_3418/4172636971.py:4: DeprecationWarning: `np.int` is a deprecated alias for the builtin `int`. To silence this warning, use `int` by itself. Doing this will not modify any behavior and is safe. When replacing `np.int`, you may wish to use e.g. `np.int64` or `np.int32` to specify the precision. If you wish to review your current use, check the release note link for additional information.\n",
      "Deprecated in NumPy 1.20; for more details and guidance: https://numpy.org/devdocs/release/1.20.0-notes.html#deprecations\n",
      "  label = np.zeros(50, dtype=np.int)\n"
     ]
    }
   ],
   "source": [
    "read_files = glob.glob('/Volumes/Shaq Toshiba/Cuba CPCe Images/201705253_ROV 17-16_422/*.txt')\n",
    "\n",
    "for txt_path in read_files:\n",
    "    base_name = os.path.basename(txt_path).split('.')[0]\n",
    "    dir_path = os.path.dirname(txt_path)\n",
    "\n",
    "    image_path = os.path.join(dir_path, base_name + '.jpg')\n",
    "    \n",
    "    name_idx = txt_path.split('_')[4]\n",
    "    name_subidx = name_idx.split('.')[0]\n",
    "    subidx = str(name_subidx)  \n",
    "    \n",
    "    crop_and_save_img(image_path, txt_path, crop_size=15, subidx=subidx)"
   ]
  },
  {
   "cell_type": "code",
   "execution_count": 144,
   "metadata": {},
   "outputs": [
    {
     "data": {
      "image/png": "[encoded data removed]",
      "text/plain": [
       "<Figure size 1000x800 with 1 Axes>"
      ]
     },
     "metadata": {},
     "output_type": "display_data"
    }
   ],
   "source": [
    "# class distribution\n",
    "\n",
    "root_dir = '/Users/shagundeepsingh/Documents/coral/preprocessing/data/classes'\n",
    "\n",
    "# Initialize a dictionary to hold the count of images in each class\n",
    "class_counts = {}\n",
    "\n",
    "# Loop through each directory in the root directory\n",
    "for class_dir in os.listdir(root_dir):\n",
    "    # Construct the path to the class directory\n",
    "    dir_path = os.path.join(root_dir, class_dir)\n",
    "    \n",
    "    # Check if the path is indeed a directory (to ignore files)\n",
    "    if os.path.isdir(dir_path):\n",
    "        # Count the number of image files in the directory\n",
    "        image_count = len([name for name in os.listdir(dir_path) if os.path.isfile(os.path.join(dir_path, name))])\n",
    "        # Update the dictionary with the count of images for the class\n",
    "        class_counts[class_dir] = image_count\n",
    "\n",
    "# Plotting the class distribution\n",
    "plt.figure(figsize=(10, 8))\n",
    "plt.bar(class_counts.keys(), class_counts.values(), color='skyblue')\n",
    "plt.xlabel('Class')\n",
    "plt.ylabel('Number of Images')\n",
    "plt.xticks(rotation=45)\n",
    "plt.title('Class Distribution of Images')\n",
    "plt.show()\n"
   ]
  },
  {
   "cell_type": "code",
   "execution_count": 145,
   "metadata": {},
   "outputs": [
    {
     "data": {
      "text/plain": [
       "{'Coral': 8,\n",
       " 'Green algae': 4,\n",
       " 'DCP': 28,\n",
       " 'Others': 3678,\n",
       " 'Red algae': 1115,\n",
       " 'Rock': 2074}"
      ]
     },
     "execution_count": 145,
     "metadata": {},
     "output_type": "execute_result"
    }
   ],
   "source": [
    "class_counts"
   ]
  },
  {
   "cell_type": "code",
   "execution_count": 8,
   "metadata": {},
   "outputs": [],
   "source": [
    "import numpy as np\n",
    "import matplotlib.pyplot as plt\n",
    "from PIL import Image\n",
    "import os\n",
    "from skimage.io import imread\n",
    "\n",
    "\n",
    "def process_image_cpc(image_path, cpc_path):\n",
    "    image = imread(image_path)\n",
    "    true_length, true_width = image.shape[1], image.shape[0]\n",
    "\n",
    "    with open(cpc_path) as textfile:\n",
    "        lines = textfile.readlines()\n",
    "        first_line = lines[0].split(',')\n",
    "        original_len, original_width = int(first_line[2]), int(first_line[3])\n",
    "        count_points = int(lines[5])\n",
    "\n",
    "        data = lines[6:6+count_points]\n",
    "        coordinates = np.zeros([count_points,2], dtype=np.int64)\n",
    "        labels = []\n",
    "        for n, row in enumerate(data):\n",
    "            data1 = row.split(',')\n",
    "            coordinates[n,0] = int(int(data1[0]) * true_length / original_len)\n",
    "            coordinates[n,1] = int(int(data1[1]) * true_width / original_width)\n",
    "            label = lines[6+count_points+n].split(',')[1].replace('\\\"', '').strip()\n",
    "            labels.append(label)\n",
    "\n",
    "    return coordinates, labels\n",
    "\n",
    "def plot_scaled_coordinates(image_path, coordinates, labels, output_path, label_color_dict):\n",
    "    img = Image.open(image_path)\n",
    "    dpi = 100\n",
    "    figsize = img.size[0] / dpi, img.size[1] / dpi\n",
    "\n",
    "    fig, ax = plt.subplots(figsize=figsize, dpi=dpi)\n",
    "    ax.imshow(img)\n",
    "\n",
    "    for coord, label in zip(coordinates, labels):\n",
    "        ax.scatter(coord[0], coord[1], s=2000, c=[label_color_dict[label]], label=label, edgecolors='black')\n",
    "\n",
    "    ax.axis('off')\n",
    "    fig.savefig(output_path, dpi=dpi, bbox_inches='tight', pad_inches=0)\n",
    "    plt.close(fig)\n",
    "\n",
    "def create_legend_image(label_color_dict, output_path):\n",
    "    unique_labels = sorted(label_color_dict.keys())\n",
    "    fig, ax = plt.subplots(figsize=(2, len(unique_labels) * 0.3))\n",
    "    ax.axis('off')\n",
    "\n",
    "    legend_elements = [plt.Line2D([0], [0], marker='o', color='w', label=label,\n",
    "                                  markerfacecolor=label_color_dict[label], markersize=10) \n",
    "                       for label in unique_labels]\n",
    "\n",
    "    ax.legend(handles=legend_elements, loc='center', frameon=False)\n",
    "    fig.savefig(output_path, bbox_inches='tight')\n",
    "    plt.close(fig)\n",
    "\n",
    "def process_directory(data_directory, output_directory):\n",
    "    if not os.path.exists(output_directory):\n",
    "        os.makedirs(output_directory)\n",
    "\n",
    "    # Initialize the label color dictionary\n",
    "    label_color_dict = {}\n",
    "\n",
    "    for filename in os.listdir(data_directory):\n",
    "        if filename.endswith(\".jpg\"):\n",
    "            image_path = os.path.join(data_directory, filename)\n",
    "            cpc_path = image_path.replace('.jpg', '.cpc')\n",
    "\n",
    "            if os.path.exists(cpc_path):\n",
    "                coordinates, labels = process_image_cpc(image_path, cpc_path)\n",
    "\n",
    "                # Update the label color dictionary with new labels\n",
    "                unique_labels = set(labels) - set(label_color_dict.keys())\n",
    "                colors = plt.cm.tab20(np.linspace(0, 1, len(unique_labels)))\n",
    "                label_color_dict.update(zip(unique_labels, colors))\n",
    "\n",
    "                output_image_name = filename.replace('.jpg', '_annotated.jpg')\n",
    "                output_path = os.path.join(output_directory, output_image_name)\n",
    "                plot_scaled_coordinates(image_path, coordinates, labels, output_path, label_color_dict)\n",
    "\n",
    "    # Create and save the legend image after all images have been processed\n",
    "    if label_color_dict:\n",
    "        legend_output_path = os.path.join(output_directory, 'legend.jpg')\n",
    "        create_legend_image(label_color_dict, legend_output_path)\n"
   ]
  },
  {
   "cell_type": "code",
   "execution_count": 9,
   "metadata": {},
   "outputs": [],
   "source": [
    "data_directory = '/Volumes/Shaq Toshiba/Cuba CPCe Images/201705253_ROV 17-16_422/'  \n",
    "output_directory = '/Users/shagundeepsingh/Documents/coral/preprocessing/img-data/'\n",
    "process_directory(data_directory, output_directory)"
   ]
  },
  {
   "cell_type": "code",
   "execution_count": null,
   "metadata": {},
   "outputs": [],
   "source": []
  }
 ],
 "metadata": {
  "kernelspec": {
   "display_name": "Python 3.9 (tensorflow)",
   "language": "python",
   "name": "tensorflow"
  },
  "language_info": {
   "codemirror_mode": {
    "name": "ipython",
    "version": 3
   },
   "file_extension": ".py",
   "mimetype": "text/x-python",
   "name": "python",
   "nbconvert_exporter": "python",
   "pygments_lexer": "ipython3",
   "version": "3.9.13"
  },
  "orig_nbformat": 4
 },
 "nbformat": 4,
 "nbformat_minor": 2
}
