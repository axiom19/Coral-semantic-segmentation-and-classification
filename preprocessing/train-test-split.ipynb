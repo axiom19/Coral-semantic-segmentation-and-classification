{
 "cells": [
  {
   "cell_type": "code",
   "execution_count": 3,
   "metadata": {},
   "outputs": [],
   "source": [
    "import os\n",
    "import shutil\n",
    "from sklearn.model_selection import train_test_split\n",
    "import glob"
   ]
  },
  {
   "cell_type": "code",
   "execution_count": 4,
   "metadata": {},
   "outputs": [],
   "source": [
    "def create_splits(source_dir, train_dir, val_dir, test_dir, test_size=0.15, val_size=0.15):\n",
    "    \"\"\"\n",
    "    Splits dataset into training, validation, and test sets.\n",
    "    - source_dir: Directory with the augmented dataset, organized in class-based subdirectories.\n",
    "    - train_dir, val_dir, test_dir: Directories to store the train, validation, and test splits.\n",
    "    - test_size: Fraction of the dataset to be used as test set.\n",
    "    - val_size: Fraction of the training set to be used as validation set.\n",
    "    \"\"\"\n",
    "    class_folders = glob.glob(os.path.join(source_dir, '*'))\n",
    "    \n",
    "    for class_folder in class_folders:\n",
    "        class_name = os.path.basename(class_folder)\n",
    "        \n",
    "        # Creating class directories in train, validation, and test directories\n",
    "        os.makedirs(os.path.join(train_dir, class_name), exist_ok=True)\n",
    "        os.makedirs(os.path.join(val_dir, class_name), exist_ok=True)\n",
    "        os.makedirs(os.path.join(test_dir, class_name), exist_ok=True)\n",
    "        \n",
    "        images = glob.glob(os.path.join(class_folder, '*.jpg'))\n",
    "        train_images, test_images = train_test_split(images, test_size=test_size, random_state=42)\n",
    "        train_images, val_images = train_test_split(train_images, test_size=val_size, random_state=42)\n",
    "        \n",
    "        # Function to copy images to their respective directories\n",
    "        for image_path in train_images:\n",
    "            shutil.copy(image_path, os.path.join(train_dir, class_name))\n",
    "            \n",
    "        for image_path in val_images:\n",
    "            shutil.copy(image_path, os.path.join(val_dir, class_name))\n",
    "            \n",
    "        for image_path in test_images:\n",
    "            shutil.copy(image_path, os.path.join(test_dir, class_name))"
   ]
  },
  {
   "cell_type": "code",
   "execution_count": 7,
   "metadata": {},
   "outputs": [],
   "source": [
    "# Define your dataset directories\n",
    "source_dir = '/Users/shagundeepsingh/Documents/coral/preprocessing/data/classes/'\n",
    "train_dir = '/Users/shagundeepsingh/Documents/coral/preprocessing/new/train/'\n",
    "val_dir = '/Users/shagundeepsingh/Documents/coral/preprocessing/new/val/'\n",
    "test_dir = '/Users/shagundeepsingh/Documents/coral/preprocessing/new/test/'\n",
    "\n",
    "create_splits(source_dir, train_dir, val_dir, test_dir, test_size=0.2, val_size=0.25)\n"
   ]
  }
 ],
 "metadata": {
  "kernelspec": {
   "display_name": "Python 3.9 (tensorflow)",
   "language": "python",
   "name": "tensorflow"
  },
  "language_info": {
   "codemirror_mode": {
    "name": "ipython",
    "version": 3
   },
   "file_extension": ".py",
   "mimetype": "text/x-python",
   "name": "python",
   "nbconvert_exporter": "python",
   "pygments_lexer": "ipython3",
   "version": "3.9.13"
  },
  "orig_nbformat": 4
 },
 "nbformat": 4,
 "nbformat_minor": 2
}
