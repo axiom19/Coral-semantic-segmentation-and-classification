{
 "cells": [
  {
   "cell_type": "code",
   "execution_count": 3,
   "metadata": {},
   "outputs": [],
   "source": [
    "import imgaug.augmenters as iaa\n",
    "import os\n",
    "import numpy as np\n",
    "from PIL import Image\n",
    "import glob"
   ]
  },
  {
   "cell_type": "code",
   "execution_count": 5,
   "metadata": {},
   "outputs": [],
   "source": [
    "# define augmentations\n",
    "seq = iaa.Sequential([\n",
    "    iaa.Fliplr(0.5),  # horizontal flips\n",
    "    # small gaussian blur with random sigma between 0 and 0.5.\n",
    "    # but we only blur about 20% of all images.\n",
    "    iaa.Sometimes(0.5, iaa.GaussianBlur(sigma=(0, 0.2))),\n",
    "    # Strengthen or weaken the contrast in each image.\n",
    "    iaa.ContrastNormalization((0.75, 1.5)),\n",
    "    # Add gaussian noise.\n",
    "    # for 50% of all images, we sample the noise once per pixel.\n",
    "    # for the other 35% of all images, we sample the noise per pixel AND\n",
    "    # channel. This can change the color (not only brightness) of the pixels.\n",
    "    iaa.AdditiveGaussianNoise(loc=0, scale=(0.0, 0.05*255), per_channel=0.35),\n",
    "    # Make some images brighter and some darker.\n",
    "    # In 20% of all cases, we sample the multiplier once per channel,\n",
    "    # which can end up changing the color of the images.\n",
    "    iaa.Multiply((0.8, 1.2), per_channel=0.2),\n",
    "    # Apply affine transformations to each image.\n",
    "    # Scale/zoom them, translate/move them, rotate them and shear them.\n",
    "    iaa.Affine(\n",
    "        scale={\"x\": (0.8, 1.2), \"y\": (0.8, 1.2)},\n",
    "        translate_percent={\"x\": (-0.2, 0.2), \"y\": (-0.2, 0.2)},\n",
    "        rotate=(-25, 25),\n",
    "        shear=(-8, 8)\n",
    "    )\n",
    "], random_order=True)  # apply augmenters in random order"
   ]
  },
  {
   "cell_type": "code",
   "execution_count": 6,
   "metadata": {},
   "outputs": [],
   "source": [
    "def load_images_from_folder(folder):\n",
    "    \"\"\"Load images from the given folder\"\"\"\n",
    "    images = []\n",
    "    for filename in os.listdir(folder):\n",
    "        img = Image.open(os.path.join(folder, filename))\n",
    "        if img is not None:\n",
    "            images.append(np.array(img))\n",
    "    return images\n",
    "\n",
    "def augment_images(image_list, augmentation_pipeline, augmentations_per_image):\n",
    "    \"\"\"Augment the given list of images.\"\"\"\n",
    "    augmented_images = []\n",
    "    for _ in range(augmentations_per_image):\n",
    "        # Augment a batch of images\n",
    "        images_aug = augmentation_pipeline(images=image_list)\n",
    "        augmented_images.extend(images_aug)\n",
    "    return augmented_images"
   ]
  },
  {
   "cell_type": "code",
   "execution_count": 7,
   "metadata": {},
   "outputs": [],
   "source": [
    "# count how many images are in each class to determine how many to generate\n",
    "class_directories = glob.glob('/Users/shagundeepsingh/Documents/coral/preprocessing/data/classes/*/')\n",
    "class_counts = {os.path.basename(os.path.normpath(class_dir)): len(glob.glob(f'{class_dir}/*.jpg')) for class_dir in class_directories}\n",
    "\n",
    "# calculate how many images you need for class balancing\n",
    "max_count = max(class_counts.values())\n",
    "augmentations_per_class = {class_name: max_count - count for class_name, count in class_counts.items()}\n",
    "\n",
    "# for each class, generate new images and save them\n",
    "for class_name, additional_images_needed in augmentations_per_class.items():\n",
    "    image_folder = f'./data/classes/{class_name}/'\n",
    "    images = load_images_from_folder(image_folder)\n",
    "    \n",
    "    # perform augmentation\n",
    "    new_images = augment_images(images, seq, augmentations_per_image=additional_images_needed // len(images))\n",
    "    \n",
    "    # save the new images\n",
    "    for idx, aug_image in enumerate(new_images):\n",
    "        aug_image = Image.fromarray(aug_image)\n",
    "        save_path = f\"{image_folder}/{class_name}_aug_{idx}.jpg\"\n",
    "        aug_image.save(save_path)"
   ]
  }
 ],
 "metadata": {
  "kernelspec": {
   "display_name": "Python 3.9 (tensorflow)",
   "language": "python",
   "name": "tensorflow"
  },
  "language_info": {
   "codemirror_mode": {
    "name": "ipython",
    "version": 3
   },
   "file_extension": ".py",
   "mimetype": "text/x-python",
   "name": "python",
   "nbconvert_exporter": "python",
   "pygments_lexer": "ipython3",
   "version": "3.9.13"
  },
  "orig_nbformat": 4
 },
 "nbformat": 4,
 "nbformat_minor": 2
}
